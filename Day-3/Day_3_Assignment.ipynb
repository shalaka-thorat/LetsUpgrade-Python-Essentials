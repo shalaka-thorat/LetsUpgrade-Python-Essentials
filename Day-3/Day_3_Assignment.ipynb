{
 "cells": [
  {
   "cell_type": "markdown",
   "metadata": {},
   "source": [
    "# Assignment 1: Sum of n numbers with the help of while loop"
   ]
  },
  {
   "cell_type": "code",
   "execution_count": 28,
   "metadata": {},
   "outputs": [
    {
     "name": "stdout",
     "output_type": "stream",
     "text": [
      "Enter a Number: 4\n"
     ]
    }
   ],
   "source": [
    "n=int(input(\"Enter a Number: \"))"
   ]
  },
  {
   "cell_type": "code",
   "execution_count": 29,
   "metadata": {},
   "outputs": [
    {
     "name": "stdout",
     "output_type": "stream",
     "text": [
      "1 -> 1\n",
      "2 -> 3\n",
      "3 -> 6\n",
      "4 -> 10\n",
      "Sum of First 4 Numbers is: 10\n"
     ]
    }
   ],
   "source": [
    "i=1\n",
    "sum1=0\n",
    "\n",
    "while i<=n:\n",
    "    sum1=sum1+i\n",
    "    print(i,\"->\",sum1)\n",
    "    i=i+1\n",
    "print(f\"Sum of First {n} Numbers is: {sum1}\")"
   ]
  },
  {
   "cell_type": "markdown",
   "metadata": {},
   "source": [
    "# Assignment 2: Whether number is prime or not"
   ]
  },
  {
   "cell_type": "code",
   "execution_count": 30,
   "metadata": {},
   "outputs": [
    {
     "name": "stdout",
     "output_type": "stream",
     "text": [
      "Enter a Number: 351\n"
     ]
    }
   ],
   "source": [
    "n=int(input(\"Enter a Number: \"))"
   ]
  },
  {
   "cell_type": "code",
   "execution_count": 31,
   "metadata": {},
   "outputs": [
    {
     "name": "stdout",
     "output_type": "stream",
     "text": [
      "351 is Not a Prime Number\n"
     ]
    }
   ],
   "source": [
    "prime=False\n",
    "for i in range(2,n):\n",
    "    if n%i==0:\n",
    "        prime=True\n",
    "\n",
    "if prime==True:\n",
    "    print(f\"{n} is Not a Prime Number\")\n",
    "else:\n",
    "    print(f\"{n} is a Prime Number\")"
   ]
  }
 ],
 "metadata": {
  "kernelspec": {
   "display_name": "Python 3",
   "language": "python",
   "name": "python3"
  },
  "language_info": {
   "codemirror_mode": {
    "name": "ipython",
    "version": 3
   },
   "file_extension": ".py",
   "mimetype": "text/x-python",
   "name": "python",
   "nbconvert_exporter": "python",
   "pygments_lexer": "ipython3",
   "version": "3.6.9"
  }
 },
 "nbformat": 4,
 "nbformat_minor": 2
}
