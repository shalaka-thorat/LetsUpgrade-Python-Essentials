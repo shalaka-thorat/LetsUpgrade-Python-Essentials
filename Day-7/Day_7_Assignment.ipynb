{
 "cells": [
  {
   "cell_type": "markdown",
   "metadata": {},
   "source": [
    "# Question 1 : \n",
    " \n",
    "## Use the dictionary, \n",
    "## port1 = {21: \"FTP\", 22:\"SSH\", 23: \"telnet\", 80: \"http\"},  \n",
    "## and make a new dictionary in which keys become values and values become keys, \n",
    "## as shown: Port2 = {“FTP\":21, \"SSH\":22, “telnet\":23,\"http\": 80} \n"
   ]
  },
  {
   "cell_type": "code",
   "execution_count": 14,
   "metadata": {},
   "outputs": [],
   "source": [
    "port1={21:\"FTP\",22:\"SSH\",23:\"Telnet\",80:\"HTTP\"}\n",
    "port2={}"
   ]
  },
  {
   "cell_type": "code",
   "execution_count": 15,
   "metadata": {},
   "outputs": [
    {
     "data": {
      "text/plain": [
       "{'FTP': 21, 'SSH': 22, 'Telnet': 23, 'HTTP': 80}"
      ]
     },
     "execution_count": 15,
     "metadata": {},
     "output_type": "execute_result"
    }
   ],
   "source": [
    "def toggle(port1):\n",
    "    for key,value in port1.items():\n",
    "        port2[value]=key\n",
    "        \n",
    "toggle(port1)\n",
    "port2"
   ]
  },
  {
   "cell_type": "markdown",
   "metadata": {},
   "source": [
    "# Question 2:  \n",
    "## Take a list of tuple as shown below. \n",
    "## [(1,2), (3,4), (5,6),(4,5)] \n",
    "## Make a new list which contains the sum of the number of tuples.  \n",
    "## For example  \n",
    "## Input  \n",
    "## [(1,2), (3,4), (5,6)] \n",
    "## Output  \n",
    "## [3, 7, 11] \n"
   ]
  },
  {
   "cell_type": "code",
   "execution_count": 16,
   "metadata": {},
   "outputs": [],
   "source": [
    "list1=[(1,2),(3,4),(5,6),(4,5)]\n",
    "list2=[]"
   ]
  },
  {
   "cell_type": "code",
   "execution_count": 18,
   "metadata": {},
   "outputs": [
    {
     "data": {
      "text/plain": [
       "[3, 7, 11, 9]"
      ]
     },
     "execution_count": 18,
     "metadata": {},
     "output_type": "execute_result"
    }
   ],
   "source": [
    "def sumup(list1):\n",
    "    for item in list1:\n",
    "        list2.append(sum(item))\n",
    "        \n",
    "sumup(list1)\n",
    "list2"
   ]
  },
  {
   "cell_type": "code",
   "execution_count": null,
   "metadata": {},
   "outputs": [],
   "source": []
  },
  {
   "cell_type": "code",
   "execution_count": null,
   "metadata": {},
   "outputs": [],
   "source": []
  },
  {
   "cell_type": "code",
   "execution_count": null,
   "metadata": {},
   "outputs": [],
   "source": []
  }
 ],
 "metadata": {
  "kernelspec": {
   "display_name": "Python 3",
   "language": "python",
   "name": "python3"
  },
  "language_info": {
   "codemirror_mode": {
    "name": "ipython",
    "version": 3
   },
   "file_extension": ".py",
   "mimetype": "text/x-python",
   "name": "python",
   "nbconvert_exporter": "python",
   "pygments_lexer": "ipython3",
   "version": "3.6.9"
  }
 },
 "nbformat": 4,
 "nbformat_minor": 2
}
